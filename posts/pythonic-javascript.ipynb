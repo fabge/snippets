{
 "cells": [
  {
   "cell_type": "markdown",
   "metadata": {},
   "source": [
    "---\n",
    "title: \"Pythonic javascript\"\n",
    "description: \"Comparison of python patterns and the javascript equivalent.\"\n",
    "categories: [code snippets, python, javascript]\n",
    "date: \"2020-11-04\"\n",
    "toc: true\n",
    "---"
   ]
  },
  {
   "cell_type": "markdown",
   "metadata": {},
   "source": [
    "Content from:\n",
    "\n",
    "* [Javascript for Python programmers](https://mike.depalatis.net/blog/javascript-for-python-programmers.html)\n",
    "* [Javascript Object Literal](https://www.dyn-web.com/tutorials/object-literal/)\n",
    "* [JavaScript Module Pattern: In-Depth](http://www.adequatelygood.com/JavaScript-Module-Pattern-In-Depth.html)\n",
    "* [Python vs Javascript](https://realpython.com/python-vs-javascript/)"
   ]
  },
  {
   "cell_type": "markdown",
   "metadata": {},
   "source": [
    "## Exception handling"
   ]
  },
  {
   "cell_type": "code",
   "execution_count": null,
   "metadata": {},
   "outputs": [],
   "source": [
    "# Python\n",
    "try:\n",
    "    thing()\n",
    "except Exception:\n",
    "    print(\"oh no!\")\n",
    "\n",
    "raise ValueError(\"not a good value\")"
   ]
  },
  {
   "cell_type": "markdown",
   "metadata": {},
   "source": [
    "```javascript\n",
    "// Javascript\n",
    "try {\n",
    "  thing();\n",
    "} catch (error) {\n",
    "  console.error(\"oh no!\");\n",
    "}\n",
    "\n",
    "throw \"not a good value\";\n",
    "```"
   ]
  },
  {
   "cell_type": "markdown",
   "metadata": {},
   "source": [
    "## Iterators"
   ]
  },
  {
   "cell_type": "code",
   "execution_count": null,
   "metadata": {},
   "outputs": [],
   "source": [
    "# Python\n",
    "arr = [1, 2, 3]\n",
    "obj = {\n",
    "    \"a\": 1,\n",
    "    \"b\": 2,\n",
    "    \"c\": 3\n",
    "}\n",
    "\n",
    "for val in arr:\n",
    "    print(val)\n",
    "\n",
    "for key in obj:\n",
    "    print(key)"
   ]
  },
  {
   "cell_type": "markdown",
   "metadata": {},
   "source": [
    "```javascript\n",
    "// Javascript\n",
    "var arr = [1, 2, 3];\n",
    "var obj = {\n",
    "  a: 1,\n",
    "  b: 2,\n",
    "  c: 3\n",
    "};\n",
    "\n",
    "for (let val of arr) {\n",
    "  console.log(val);\n",
    "}\n",
    "\n",
    "// or...\n",
    "arr.forEach((value, index) => {\n",
    "  console.log(value);\n",
    "});\n",
    "\n",
    "for (let key in obj) {\n",
    "  console.log(key);\n",
    "}\n",
    "```"
   ]
  },
  {
   "cell_type": "markdown",
   "metadata": {},
   "source": [
    "## Generators"
   ]
  },
  {
   "cell_type": "code",
   "execution_count": null,
   "metadata": {},
   "outputs": [],
   "source": [
    "# Python\n",
    "def gen(x):\n",
    "    while True:\n",
    "        yield x\n",
    "        x = x + 1"
   ]
  },
  {
   "cell_type": "markdown",
   "metadata": {},
   "source": [
    "```javascript\n",
    "// Javascript\n",
    "function* gen(x) {\n",
    "  while (true) {\n",
    "    yield x;\n",
    "    x++;\n",
    "  }\n",
    "}\n",
    "```"
   ]
  },
  {
   "cell_type": "markdown",
   "metadata": {},
   "source": [
    "## Classes"
   ]
  },
  {
   "cell_type": "code",
   "execution_count": null,
   "metadata": {},
   "outputs": [],
   "source": [
    "# Python\n",
    "class Thing:\n",
    "    def __init__(self, a):\n",
    "        self.a = a\n",
    "\n",
    "    def add_one(self):\n",
    "        return self.a + 1\n",
    "\n",
    "class OtherThing(Thing):\n",
    "    def __init__(self, a, b):\n",
    "        super(OtherThing, self).__init__(a)\n",
    "        self.b = b\n",
    "\n",
    "    def add_things(self):\n",
    "        return self.a + self.b"
   ]
  },
  {
   "cell_type": "markdown",
   "metadata": {},
   "source": [
    "```javascript\n",
    "// Javascript\n",
    "class Thing {\n",
    "  constructor(a) {\n",
    "    this.a = a;\n",
    "  }\n",
    "\n",
    "  addOne() {\n",
    "    return this.a + 1;\n",
    "  }\n",
    "}\n",
    "\n",
    "class OtherThing extends Thing {\n",
    "  constructor(a, b) {\n",
    "    super(a);\n",
    "    this.b = b;\n",
    "  }\n",
    "\n",
    "  addThings() {\n",
    "    return this.a + this.b;\n",
    "  }\n",
    "}\n",
    "```"
   ]
  },
  {
   "cell_type": "markdown",
   "metadata": {},
   "source": [
    "## Functional programming"
   ]
  },
  {
   "cell_type": "markdown",
   "metadata": {},
   "source": [
    "### Lambdas"
   ]
  },
  {
   "cell_type": "code",
   "execution_count": null,
   "metadata": {},
   "outputs": [],
   "source": [
    "# Python\n",
    "expression = lambda a, b: a + b"
   ]
  },
  {
   "cell_type": "markdown",
   "metadata": {},
   "source": [
    "```javascript\n",
    "// Javascript\n",
    "// Arrow functions are more powerful than Python lambdas, but not in\n",
    "// this example!\n",
    "let expression = (a, b) => a + b;\n",
    "\n",
    "// or...\n",
    "let sameThing = function (a, b) {\n",
    "  return a + b;\n",
    "}\n",
    "```"
   ]
  },
  {
   "cell_type": "markdown",
   "metadata": {},
   "source": [
    "## General Javascript"
   ]
  },
  {
   "cell_type": "markdown",
   "metadata": {},
   "source": [
    "### Object Literal"
   ]
  },
  {
   "cell_type": "markdown",
   "metadata": {},
   "source": [
    "A JavaScript object literal is a comma-separated list of name-value pairs wrapped in curly braces. Object literals encapsulate data, enclosing it in a tidy package. This minimizes the use of global variables which can cause problems when combining code.\n",
    "\n",
    "Object literals are defined using the following syntax rules:\n",
    "\n",
    "* A colon separates property name from value.\n",
    "* A comma separates each name-value pair from the next.\n",
    "* There should be no comma after the last name-value pair."
   ]
  },
  {
   "cell_type": "markdown",
   "metadata": {},
   "source": [
    "```javascript\n",
    "var myObject = {\n",
    "    sProp: 'some string value',\n",
    "    numProp: 2,\n",
    "    bProp: false\n",
    "};\n",
    "```"
   ]
  },
  {
   "cell_type": "markdown",
   "metadata": {},
   "source": [
    "### Functions"
   ]
  },
  {
   "cell_type": "markdown",
   "metadata": {},
   "source": [
    "Unlike constants, variables in JavaScript don’t need an initial value. You can provide one later:"
   ]
  },
  {
   "cell_type": "markdown",
   "metadata": {},
   "source": [
    "```javascript\n",
    "let name;\n",
    "name = 'John Doe';\n",
    "```"
   ]
  },
  {
   "cell_type": "markdown",
   "metadata": {},
   "source": [
    "When you leave off the initial value, you create what’s called a variable declaration rather than a variable definition. Such variables automatically receive a special value of undefined, which is one of the primitive types in JavaScript. This is different in Python, where you always define variables except for variable annotations. But even then, these variables aren’t technically declared.    "
   ]
  },
  {
   "cell_type": "markdown",
   "metadata": {},
   "source": [
    "### Arrow functions"
   ]
  },
  {
   "cell_type": "markdown",
   "metadata": {},
   "source": [
    "Notice that there’s no function keyword anymore, and the return statement is implicit. The arrow symbol (=>) separates the function’s arguments from its body.  \n",
    "When you want to return an object literal from an arrow function, you need to wrap it in parentheses to avoid ambiguity with a block of code:"
   ]
  },
  {
   "cell_type": "markdown",
   "metadata": {},
   "source": [
    "```javascript\n",
    "let add = (a, b) => ({\n",
    "  result: a + b\n",
    "});\n",
    "```"
   ]
  },
  {
   "cell_type": "markdown",
   "metadata": {},
   "source": [
    "Otherwise, the function body would be confused for a block of code without any return statements, and the colon would create a labeled statement rather than a key-value pair."
   ]
  },
  {
   "cell_type": "markdown",
   "metadata": {},
   "source": [
    "```javascript\n",
    "// JavaScript function\n",
    " function funcName(param) {\n",
    "  return param + 10;\n",
    "}\n",
    "\n",
    "// JavaScript arrow function\n",
    "const funcName = (param) => param + 2\n",
    "```"
   ]
  },
  {
   "cell_type": "markdown",
   "metadata": {},
   "source": [
    "### Anonymous Closures"
   ]
  },
  {
   "cell_type": "markdown",
   "metadata": {},
   "source": [
    "This is the fundamental construct that makes it all possible, and really is the single best feature of JavaScript. We’ll simply create an anonymous function, and execute it immediately. All of the code that runs inside the function lives in a closure, which provides privacy and state throughout the lifetime of our application."
   ]
  },
  {
   "cell_type": "markdown",
   "metadata": {},
   "source": [
    "```javascript\n",
    "(function () {\n",
    "  // ... all vars and functions are in this scope only\n",
    "  // still maintains access to all globals\n",
    "}());\n",
    "```"
   ]
  },
  {
   "cell_type": "markdown",
   "metadata": {},
   "source": [
    "Notice the () around the anonymous function. This is required by the language, since statements that begin with the token function are always considered to be function declarations. Including () creates a function expression instead."
   ]
  }
 ],
 "metadata": {
  "kernelspec": {
   "display_name": "venv",
   "language": "python",
   "name": "venv"
  },
  "language_info": {
   "codemirror_mode": {
    "name": "ipython",
    "version": 3
   },
   "file_extension": ".py",
   "mimetype": "text/x-python",
   "name": "python",
   "nbconvert_exporter": "python",
   "pygments_lexer": "ipython3",
   "version": "3.8.1"
  }
 },
 "nbformat": 4,
 "nbformat_minor": 4
}
