{
 "cells": [
  {
   "cell_type": "markdown",
   "metadata": {},
   "source": [
    "---\n",
    "title: \"Docker\"\n",
    "description: \"Docker commands\"\n",
    "categories: [code snippets, docker]\n",
    "date: \"2020-08-16\"\n",
    "toc: true\n",
    "---"
   ]
  },
  {
   "cell_type": "markdown",
   "metadata": {},
   "source": [
    "**Stop all containers**"
   ]
  },
  {
   "cell_type": "markdown",
   "metadata": {},
   "source": [
    "```bash\n",
    "docker stop $(docker ps -a -q)\n",
    "docker rm $(docker ps -a -q)\n",
    "```"
   ]
  },
  {
   "cell_type": "markdown",
   "metadata": {},
   "source": [
    "**Remove all images**"
   ]
  },
  {
   "cell_type": "markdown",
   "metadata": {},
   "source": [
    "```bash\n",
    "docker system prune -a\n",
    "```"
   ]
  },
  {
   "cell_type": "markdown",
   "metadata": {},
   "source": [
    "**Stop docker-compose and remove volumes**"
   ]
  },
  {
   "cell_type": "markdown",
   "metadata": {},
   "source": [
    "```bash\n",
    "docker-compose down -v\n",
    "```"
   ]
  },
  {
   "cell_type": "markdown",
   "metadata": {},
   "source": [
    "**Run Docker container for data science workflows**"
   ]
  },
  {
   "cell_type": "markdown",
   "metadata": {},
   "source": [
    "```bash\n",
    "docker run -d \\\n",
    "    -v \"${PWD}:/workspace\" \\\n",
    "    -p 8080:8080 \\\n",
    "    --name \"ml-workspace\" \\\n",
    "    --env AUTHENTICATE_VIA_JUPYTER=\"mytoken\" \\\n",
    "    --shm-size 2g \\\n",
    "    --restart always \\\n",
    "    dagshub/ml-workspace:latest\n",
    "```"
   ]
  },
  {
   "cell_type": "markdown",
   "metadata": {},
   "source": [
    "**Run wordpress, mysql & phpmyadmin with docker-compose**"
   ]
  },
  {
   "cell_type": "markdown",
   "metadata": {},
   "source": [
    "```yaml\n",
    "version: \"3.3\"\n",
    "\n",
    "services:\n",
    "  db:\n",
    "    image: mysql:5.7\n",
    "    restart: always\n",
    "    environment:\n",
    "      MYSQL_ROOT_PASSWORD: password\n",
    "      MYSQL_DATABASE: wordpress\n",
    "      MYSQL_USER: wordpress\n",
    "      MYSQL_PASSWORD: wordpress\n",
    "    volumes:\n",
    "      - ./db_volume:/var/lib/mysql\n",
    "    networks:\n",
    "      - wpsite\n",
    "\n",
    "  phpmyadmin:\n",
    "    depends_on:\n",
    "      - db\n",
    "    image: phpmyadmin/phpmyadmin\n",
    "    restart: always\n",
    "    ports:\n",
    "      - '8080:80'\n",
    "    environment:\n",
    "      PMA_HOST: db\n",
    "      MYSQL_ROOT_PASSWORD: password \n",
    "      MYSQL_USER: wordpress\n",
    "      MYSQL_PASSWORD: wordpress\n",
    "    networks:\n",
    "      - wpsite\n",
    "\n",
    "  wordpress:\n",
    "    depends_on:\n",
    "      - db\n",
    "    image: wordpress:latest\n",
    "    ports:\n",
    "      - \"8000:80\"\n",
    "    restart: always\n",
    "    environment:\n",
    "      WORDPRESS_DB_HOST: db:3306\n",
    "      WORDPRESS_DB_USER: wordpress\n",
    "      WORDPRESS_DB_PASSWORD: wordpress\n",
    "      WORDPRESS_DB_NAME: wordpress\n",
    "    volumes:\n",
    "      - ./wp_volume:/var/www/html\n",
    "      - ./uploads.ini:/usr/local/etc/php/conf.d/uploads.ini\n",
    "    networks:\n",
    "      - wpsite\n",
    "\n",
    "networks:\n",
    "  wpsite:\n",
    "```"
   ]
  },
  {
   "cell_type": "code",
   "execution_count": null,
   "metadata": {},
   "outputs": [],
   "source": []
  }
 ],
 "metadata": {
  "kernelspec": {
   "display_name": "venv",
   "language": "python",
   "name": "venv"
  },
  "language_info": {
   "codemirror_mode": {
    "name": "ipython",
    "version": 3
   },
   "file_extension": ".py",
   "mimetype": "text/x-python",
   "name": "python",
   "nbconvert_exporter": "python",
   "pygments_lexer": "ipython3",
   "version": "3.8.1"
  }
 },
 "nbformat": 4,
 "nbformat_minor": 4
}
