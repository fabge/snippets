{
 "cells": [
  {
   "cell_type": "markdown",
   "metadata": {},
   "source": [
    "---\n",
    "title: \"bash\"\n",
    "description: \"Fighting with bash\"\n",
    "categories: [bash, snippets]\n",
    "date: \"2020-12-6\"\n",
    "toc: true\n",
    "---"
   ]
  },
  {
   "cell_type": "markdown",
   "metadata": {},
   "source": [
    "## `set -euo pipefail`\n",
    "\n",
    "By default, bash will continue after errors.  \n",
    "`set -e` stops the script on errors.\n",
    "\n",
    "By default, unset variables don't error.  \n",
    "`set -u` stops the script on unset variables.\n",
    "\n",
    "By default, a command failing doesn't fail the whole pipeline.  \n",
    "`set -o pipefail` prevents this."
   ]
  },
  {
   "cell_type": "markdown",
   "metadata": {},
   "source": [
    "## `2>&1`\n",
    "\n",
    "File descriptor 1 is the standard output (`stdout`).  \n",
    "File descriptor 2 is the standard error (`stderr`).\n",
    "\n",
    "Here is one way to remember this construct (although it is not entirely accurate): at first, `2>1` may look like a good way to redirect `stderr` to `stdout`. However, it will actually be interpreted as \"redirect `stderr` to a file named `1`\". `&` indicates that what follows and precedes is a file descriptor and not a filename. So the construct becomes: `2>&1`.\n",
    "\n",
    "Consider >& as redirect merger operator."
   ]
  },
  {
   "cell_type": "markdown",
   "metadata": {},
   "source": [
    "## `!!`\n",
    "\n",
    "History substitution: When you use history substitution, the shell first displays the command that it's about to execute with all the substitutions shown, and then executes it."
   ]
  },
  {
   "cell_type": "markdown",
   "metadata": {
    "heading_collapsed": true
   },
   "source": [
    "## `[[`\n",
    "\n",
    "Note that [[ is actually a command/program that returns either 0 (true) or 1 (false)."
   ]
  },
  {
   "cell_type": "markdown",
   "metadata": {},
   "source": [
    "## `[[ -s FILE ]]`\n",
    "\n",
    "Size is > 0 bytes.  \n",
    "The -s test returns true if file.txt exists and has a size greater than zero"
   ]
  },
  {
   "cell_type": "markdown",
   "metadata": {},
   "source": [
    "## `|| true`\n",
    "\n",
    "In cases where a command in the script is allowed to fail, adding `|| true` ensures that the resulting compound command always exits with status zero, so the script doesn't abort. For example, removing a directory shouldn't be a fatal error (preventing a package from being removed); so we'd use\n",
    "\n",
    "```bash\n",
    "rmdir ... || true\n",
    "```\n",
    "\n",
    "since `rmdir` doesn't have an option to tell it to ignore errors."
   ]
  },
  {
   "cell_type": "markdown",
   "metadata": {},
   "source": [
    "## `[[ -z STRING ]]`\n",
    "\n",
    "Empty string"
   ]
  },
  {
   "cell_type": "markdown",
   "metadata": {},
   "source": [
    "## `[[ -n STRING ]]`\n",
    "\n",
    "Not empty string"
   ]
  },
  {
   "cell_type": "markdown",
   "metadata": {},
   "source": [
    "## `awk`\n",
    "\n",
    "For manipulating columns of data.  \n",
    "Basic `awk` structure:\n",
    "```BEGIN {...} CONDITION {action} CONDITION {action} END {...}```  \n",
    "Examples:\n",
    "\n",
    "* print thrid and fourth column of every row  \n",
    "\n",
    "```bash\n",
    "awk '{print $3 \"\\t\" $4}' test.txt\n",
    "```  \n",
    "\n",
    "* print all lines that match a pattern (print is default so `{print $0}` could be omitted)\n",
    "\n",
    "```bash\n",
    "awk '/a/ {print $0}' test.txt\n",
    "```"
   ]
  },
  {
   "cell_type": "markdown",
   "metadata": {},
   "source": [
    "## `grep`\n",
    "\n",
    "`-i` case insensitive  \n",
    "`-E` use if you want regular expressions like \".+\" to work. Otherwise you need to use \".\\+\".  \n",
    "`-v` invert match: find all lines that don't match.  \n",
    "`-o` only print the matching part of the line (not the whole line)  "
   ]
  },
  {
   "cell_type": "markdown",
   "metadata": {},
   "source": [
    "## `lsof`\n",
    "\n",
    "Stands for **l**ist **o**pen **f**iles\n",
    "For each open file:\n",
    "\n",
    "* pid\n",
    "* file type (regular? directory? FIFO? socket?)\n",
    "* file descriptor (FD column)\n",
    "* user\n",
    "* file name/socket address"
   ]
  },
  {
   "cell_type": "markdown",
   "metadata": {},
   "source": [
    "## `sed`\n",
    "\n",
    "sed is most often used for replacing text in a file.  \n",
    "```bash\n",
    "sed s/cat/dog/g file.txt\n",
    "```\n",
    "`sed 5d` - delete 5th line  \n",
    "`sed /cat/d` - delete lines matching /cat/  \n",
    "`sed -n 5,30p` - print lines 5-30  \n",
    "`sed s+cat/+dog/+` - use + as regex delimiter (way easier than escaping /s like `s/cat\\//dog\\//`)  \n",
    "`set '/cat/a dog'` - append 'dog' after lines containing 'cat'"
   ]
  },
  {
   "cell_type": "markdown",
   "metadata": {},
   "source": [
    "## `find`\n",
    "find searches a directory for files.  \n",
    "https://wizardzines.com/comics/find/  \n",
    "```bash\n",
    "find /tmp -type d -print\n",
    "```"
   ]
  },
  {
   "cell_type": "markdown",
   "metadata": {},
   "source": [
    "## Substitution\n",
    "\n",
    "```bash\n",
    "name=\"John\"\n",
    "echo ${name/J/j}\n",
    "```\n",
    "=> \"john\" (substitution)"
   ]
  }
 ],
 "metadata": {
  "kernelspec": {
   "display_name": "venv",
   "language": "python",
   "name": "venv"
  },
  "language_info": {
   "codemirror_mode": {
    "name": "ipython",
    "version": 3
   },
   "file_extension": ".py",
   "mimetype": "text/x-python",
   "name": "python",
   "nbconvert_exporter": "python",
   "pygments_lexer": "ipython3",
   "version": "3.8.1"
  }
 },
 "nbformat": 4,
 "nbformat_minor": 2
}
